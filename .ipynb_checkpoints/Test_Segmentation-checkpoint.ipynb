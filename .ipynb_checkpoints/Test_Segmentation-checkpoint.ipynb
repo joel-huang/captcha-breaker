{
 "cells": [
  {
   "cell_type": "code",
   "execution_count": 1,
   "metadata": {},
   "outputs": [
    {
     "name": "stdout",
     "output_type": "stream",
     "text": [
      "[(55, 86, 3, 22), (125, 84, 4, 24), (100, 81, 4, 4), (77, 80, 4, 4), (45, 80, 4, 4), (165, 72, 4, 4), (99, 72, 4, 4), (181, 70, 4, 4), (63, 57, 4, 4), (170, 52, 4, 4), (113, 52, 3, 4), (116, 52, 3, 4), (112, 44, 4, 6), (100, 42, 15, 39), (72, 42, 8, 30), (80, 40, 4, 4), (85, 34, 13, 40), (142, 32, 16, 44), (102, 28, 8, 9), (26, 26, 19, 55), (173, 25, 4, 4), (127, 22, 16, 54), (101, 22, 4, 4), (48, 21, 17, 61), (108, 0, 6, 26)]\n"
     ]
    },
    {
     "data": {
      "text/plain": [
       "233"
      ]
     },
     "execution_count": 1,
     "metadata": {},
     "output_type": "execute_result"
    }
   ],
   "source": [
    "from imutils import paths\n",
    "import numpy as np\n",
    "import imutils\n",
    "import cv2\n",
    "import pickle\n",
    "import numpy\n",
    "import imutils\n",
    "import sklearn\n",
    "\n",
    "image_file = '/home/joel/Desktop/captcha-breaker/data/captcha/test/71_Fbemw.png'\n",
    "\n",
    "# Load the image and convert it to grayscale\n",
    "image = cv2.imread(image_file)\n",
    "image = cv2.cvtColor(image, cv2.COLOR_BGR2GRAY)\n",
    "\n",
    "# Add some extra padding around the image\n",
    "image = cv2.copyMakeBorder(image, 20, 20, 20, 20, cv2.BORDER_REPLICATE)\n",
    "\n",
    "# threshold the image (convert it to pure black and white)\n",
    "thresh = cv2.threshold(image, 0, 255, cv2.THRESH_BINARY_INV | cv2.THRESH_OTSU)[1]\n",
    "\n",
    "# find the contours (continuous blobs of pixels) the image\n",
    "contours = cv2.findContours(thresh.copy(), cv2.RETR_EXTERNAL, cv2.CHAIN_APPROX_SIMPLE)\n",
    "\n",
    "# Hack for compatibility with different OpenCV versions\n",
    "contours = contours[0] if imutils.is_cv2() else contours[1]\n",
    "\n",
    "letter_image_regions = []\n",
    "\n",
    "# Now we can loop through each of the four contours and extract the letter\n",
    "# inside of each one\n",
    "for contour in contours:\n",
    "    # Get the rectangle that contains the contour\n",
    "    (x, y, w, h) = cv2.boundingRect(contour)\n",
    "\n",
    "    # Compare the width and height of the contour to detect letters that\n",
    "    # are conjoined into one chunk\n",
    "    if w / h > 1.25:\n",
    "        # This contour is too wide to be a single letter!\n",
    "        # Split it in half into two letter regions!\n",
    "        half_width = int(w / 2)\n",
    "        letter_image_regions.append((x, y, half_width, h))\n",
    "        letter_image_regions.append((x + half_width, y, half_width, h))\n",
    "    else:\n",
    "        # This is a normal letter by itself\n",
    "        letter_image_regions.append((x, y, w, h))\n",
    "\n",
    "print(letter_image_regions)\n",
    "\n",
    "for region in letter_image_regions:\n",
    "    cv2.rectangle(image, (region[0], region[1]), (region[0]+region[2], region[1]+region[3]), (0, 255, 0), 1)\n",
    "cv2.imshow(\"out\", image)\n",
    "cv2.waitKey()\n"
   ]
  },
  {
   "cell_type": "code",
   "execution_count": null,
   "metadata": {},
   "outputs": [],
   "source": []
  }
 ],
 "metadata": {
  "kernelspec": {
   "display_name": "Python 3",
   "language": "python",
   "name": "python3"
  },
  "language_info": {
   "codemirror_mode": {
    "name": "ipython",
    "version": 3
   },
   "file_extension": ".py",
   "mimetype": "text/x-python",
   "name": "python",
   "nbconvert_exporter": "python",
   "pygments_lexer": "ipython3",
   "version": "3.6.6"
  }
 },
 "nbformat": 4,
 "nbformat_minor": 2
}
