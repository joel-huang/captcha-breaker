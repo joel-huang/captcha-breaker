{
 "cells": [
  {
   "cell_type": "code",
   "execution_count": 1,
   "metadata": {},
   "outputs": [
    {
     "name": "stdout",
     "output_type": "stream",
     "text": [
      "['../captcha', '', '/home/joel/anaconda2/envs/ml/lib/python36.zip', '/home/joel/anaconda2/envs/ml/lib/python3.6', '/home/joel/anaconda2/envs/ml/lib/python3.6/lib-dynload', '/home/joel/.local/lib/python3.6/site-packages', '/home/joel/anaconda2/envs/ml/lib/python3.6/site-packages', '/home/joel/anaconda2/envs/ml/lib/python3.6/site-packages/Mako-1.0.7-py3.6.egg', '/home/joel/anaconda2/envs/ml/lib/python3.6/site-packages/instagram_scraper-1.5.40-py3.6.egg', '/home/joel/anaconda2/envs/ml/lib/python3.6/site-packages/IPython/extensions', '/home/joel/.ipython']\n"
     ]
    }
   ],
   "source": [
    "import sys\n",
    "sys.path.insert(0, '../captcha') # use modified library\n",
    "print(sys.path)\n",
    "\n",
    "from captcha.image import ImageCaptcha\n",
    "import matplotlib.pyplot as plt\n",
    "from PIL import Image\n",
    "import numpy as np\n",
    "import random\n",
    "import string\n",
    "%matplotlib inline"
   ]
  },
  {
   "cell_type": "code",
   "execution_count": null,
   "metadata": {},
   "outputs": [],
   "source": [
    "def prepare_lines(prefix, filename, random_str, boxes):\n",
    "    if len(random_str) != len(boxes):\n",
    "        raise Exception('The lengths of random string and list of boxes differ.')\n",
    "    line = \"\"\n",
    "    for i in range(len(random_str)):\n",
    "        line += prefix + filename + ',' + str(boxes[i][0]) + ',' + str(boxes[i][1]) + ',' + str(boxes[i][2]) + ',' + str(boxes[i][3]) + ',' + random_str[i] + '\\n'\n",
    "    return line"
   ]
  },
  {
   "cell_type": "code",
   "execution_count": 14,
   "metadata": {},
   "outputs": [
    {
     "name": "stdout",
     "output_type": "stream",
     "text": [
      "Jjkwox\n"
     ]
    },
    {
     "data": {
      "text/plain": [
       "<matplotlib.image.AxesImage at 0x7f45daf445f8>"
      ]
     },
     "execution_count": 14,
     "metadata": {},
     "output_type": "execute_result"
    },
    {
     "data": {
      "image/png": "[encoded data removed]",
      "text/plain": [
       "<Figure size 432x288 with 1 Axes>"
      ]
     },
     "metadata": {
      "needs_background": "light"
     },
     "output_type": "display_data"
    }
   ],
   "source": [
    "# A test\n",
    "\n",
    "characters = string.digits + string.ascii_uppercase + string.ascii_lowercase\n",
    "width, height, n_class = 200, 75, len(characters)\n",
    "generator = ImageCaptcha(width=width, height=height, curve=False, dots=False)\n",
    "\n",
    "n_len = 6\n",
    "random_str = ''.join([random.choice(characters) for j in range(n_len)])\n",
    "img, boxes = generator.generate_image(random_str, bbox=True)\n",
    "\n",
    "print(random_str)\n",
    "plt.imshow(img)"
   ]
  },
  {
   "cell_type": "code",
   "execution_count": null,
   "metadata": {},
   "outputs": [],
   "source": [
    "# Define an alphanumeric character set\n",
    "characters = string.digits + string.ascii_uppercase + string.ascii_lowercase\n",
    "\n",
    "width, height, n_class = 200, 75, len(characters)\n",
    "\n",
    "generator = ImageCaptcha(width=width, height=height)\n",
    "\n",
    "num_samples, split = 2000, .8\n",
    "split_index = int(split * num_samples) - 1\n",
    "\n",
    "f = open(\"../data/bboxes.csv\",\"w+\")\n",
    "\n",
    "for i in np.arange(0, num_samples):\n",
    "    n_len = random.randint(4,7)\n",
    "    random_str = ''.join([random.choice(characters) for j in range(n_len)])\n",
    "    img, boxes = generator.generate_image(random_str, bbox=True)\n",
    "    filename = str(i) + '_' + random_str + '.png'\n",
    "    if i <= split_index:\n",
    "        img.save('../data/captcha/train/' + filename, 'png')\n",
    "        lines = prepare_lines('/home/jovyan/captcha-breaker/captcha-breaker/data/captcha/train/', filename, random_str, boxes)\n",
    "        f.write(lines)\n",
    "    else:\n",
    "        img.save('../data/captcha/test/' + filename, 'png')\n",
    "        lines = prepare_lines('/home/jovyan/captcha-breaker/captcha-breaker/data/captcha/test/', filename, random_str, boxes)\n",
    "        f.write(lines)\n",
    "        \n",
    "f.close()"
   ]
  },
  {
   "cell_type": "code",
   "execution_count": null,
   "metadata": {},
   "outputs": [],
   "source": []
  }
 ],
 "metadata": {
  "kernelspec": {
   "display_name": "Python 3",
   "language": "python",
   "name": "python3"
  },
  "language_info": {
   "codemirror_mode": {
    "name": "ipython",
    "version": 3
   },
   "file_extension": ".py",
   "mimetype": "text/x-python",
   "name": "python",
   "nbconvert_exporter": "python",
   "pygments_lexer": "ipython3",
   "version": "3.6.6"
  }
 },
 "nbformat": 4,
 "nbformat_minor": 2
}
